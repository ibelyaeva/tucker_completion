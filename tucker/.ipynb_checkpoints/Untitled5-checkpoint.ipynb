{
 "cells": [
  {
   "cell_type": "code",
   "execution_count": 28,
   "metadata": {},
   "outputs": [],
   "source": [
    "import texfig\n",
    "import tensorly as tl\n",
    "\n",
    "import nilearn\n",
    "\n",
    "from nilearn import image\n",
    "import nibabel as nib\n",
    "import copy\n",
    "from nilearn import plotting\n",
    "import os\n",
    "import numpy as np\n",
    "import matplotlib.pyplot as plt\n",
    "import matplotlib.gridspec as gridspec\n",
    "import random\n",
    "from math import ceil\n",
    "from nilearn.datasets import MNI152_FILE_PATH\n",
    "from sklearn.model_selection import train_test_split\n",
    "from nibabel.affines import apply_affine\n",
    "from nilearn.image.resampling import coord_transform, get_bounds, get_mask_bounds\n",
    "from nilearn.image import resample_img\n",
    "from nilearn.masking import compute_background_mask\n",
    "from datetime import datetime\n",
    "import file_service as fs\n",
    "import csv\n",
    "\n",
    "import metric_util as mt\n",
    "import data_util as du\n",
    "import mri_draw_utils as mrd\n",
    "import configparser\n",
    "from os import path\n",
    "import logging\n",
    "import metadata as mdt\n",
    "import tensor_util as tu\n",
    "import tucker_tensor_completion as ct\n",
    "\n",
    "import numpy as np\n",
    "\n",
    "# Import PyTorch\n",
    "import torch\n",
    "from torch.autograd import Variable\n",
    "\n",
    "# Import TensorLy\n",
    "import tensorly as tl\n",
    "from tensorly.tucker_tensor import tucker_to_tensor\n",
    "from tensorly.random import check_random_state\n",
    "\n",
    "from tensorly.decomposition import parafac\n",
    "from tensorly.kruskal_tensor import kruskal_to_tensor, KruskalTensor\n",
    "\n",
    "%matplotlib inline\n",
    "import matplotlib.pyplot as plt\n",
    "\n"
   ]
  },
  {
   "cell_type": "code",
   "execution_count": 2,
   "metadata": {},
   "outputs": [],
   "source": [
    "tl.set_backend('pytorch')"
   ]
  },
  {
   "cell_type": "code",
   "execution_count": 3,
   "metadata": {},
   "outputs": [],
   "source": [
    "subject_scan_path = du.get_full_path_subject1()"
   ]
  },
  {
   "cell_type": "code",
   "execution_count": 4,
   "metadata": {},
   "outputs": [
    {
     "name": "stderr",
     "output_type": "stream",
     "text": [
      "/usr/local/lib/python3.7/site-packages/ipykernel_launcher.py:2: DeprecationWarning: get_data() is deprecated in favor of get_fdata(), which has a more predictable return type. To obtain get_data() behavior going forward, use numpy.asanyarray(img.dataobj).\n",
      "\n",
      "* deprecated from version: 3.0\n",
      "* Will raise <class 'nibabel.deprecator.ExpiredDeprecationError'> as of version: 5.0\n",
      "  \n"
     ]
    }
   ],
   "source": [
    "x_true_img = mt.read_image_abs_path(subject_scan_path)\n",
    "x_true_data = np.array(x_true_img.get_data())"
   ]
  },
  {
   "cell_type": "code",
   "execution_count": 5,
   "metadata": {},
   "outputs": [
    {
     "name": "stdout",
     "output_type": "stream",
     "text": [
      "Norm Ground Truth: 74896790.0\n"
     ]
    }
   ],
   "source": [
    "ground_truth, norm_ground_truth = tu.normalize_data(x_true_data)\n",
    "print(\"Norm Ground Truth: \" + str(norm_ground_truth))\n",
    "ground_truth_tensor = tl.tensor(ground_truth)"
   ]
  },
  {
   "cell_type": "code",
   "execution_count": 7,
   "metadata": {},
   "outputs": [
    {
     "name": "stdout",
     "output_type": "stream",
     "text": [
      "reconstruction error=0.3063524663448334\n",
      "iteration 1,  reconstraction error: 0.2911047041416168, decrease = 0.015247762203216553, unnormalized = 0.29012352228164673\n",
      "iteration 2,  reconstraction error: 0.06796567887067795, decrease = 0.22313901782035828, unnormalized = 0.06773659586906433\n",
      "iteration 3,  reconstraction error: 0.08239392936229706, decrease = -0.01442825049161911, unnormalized = 0.08211621642112732\n",
      "iteration 4,  reconstraction error: 0.08406878262758255, decrease = -0.001674853265285492, unnormalized = 0.08378542214632034\n",
      "iteration 5,  reconstraction error: 0.0846790075302124, decrease = -0.0006102249026298523, unnormalized = 0.08439359068870544\n",
      "iteration 6,  reconstraction error: 0.08501989394426346, decrease = -0.0003408864140510559, unnormalized = 0.08473332971334457\n",
      "iteration 7,  reconstraction error: 0.08523771166801453, decrease = -0.00021781772375106812, unnormalized = 0.08495040982961655\n",
      "iteration 8,  reconstraction error: 0.08539386838674545, decrease = -0.00015615671873092651, unnormalized = 0.08510603755712509\n",
      "iteration 9,  reconstraction error: 0.08551464229822159, decrease = -0.00012077391147613525, unnormalized = 0.08522640913724899\n",
      "iteration 10,  reconstraction error: 0.08560161292552948, decrease = -8.697062730789185e-05, unnormalized = 0.0853130891919136\n",
      "iteration 11,  reconstraction error: 0.08567029237747192, decrease = -6.867945194244385e-05, unnormalized = 0.08538153022527695\n",
      "iteration 12,  reconstraction error: 0.08572840690612793, decrease = -5.811452865600586e-05, unnormalized = 0.08543945103883743\n",
      "iteration 13,  reconstraction error: 0.08577249944210052, decrease = -4.4092535972595215e-05, unnormalized = 0.08548339456319809\n",
      "iteration 14,  reconstraction error: 0.08581306040287018, decrease = -4.056096076965332e-05, unnormalized = 0.085523821413517\n",
      "iteration 15,  reconstraction error: 0.08584941923618317, decrease = -3.635883331298828e-05, unnormalized = 0.08556005358695984\n",
      "iteration 16,  reconstraction error: 0.0858759805560112, decrease = -2.6561319828033447e-05, unnormalized = 0.08558652549982071\n",
      "iteration 17,  reconstraction error: 0.08590182662010193, decrease = -2.584606409072876e-05, unnormalized = 0.08561228960752487\n",
      "iteration 18,  reconstraction error: 0.08592557907104492, decrease = -2.3752450942993164e-05, unnormalized = 0.0856359601020813\n",
      "iteration 19,  reconstraction error: 0.08594512939453125, decrease = -1.9550323486328125e-05, unnormalized = 0.08565544337034225\n",
      "iteration 20,  reconstraction error: 0.08596327900886536, decrease = -1.8149614334106445e-05, unnormalized = 0.08567353338003159\n",
      "iteration 21,  reconstraction error: 0.08598282188177109, decrease = -1.95428729057312e-05, unnormalized = 0.08569300919771194\n",
      "iteration 22,  reconstraction error: 0.08599887043237686, decrease = -1.6048550605773926e-05, unnormalized = 0.08570900559425354\n",
      "iteration 23,  reconstraction error: 0.08601213246583939, decrease = -1.3262033462524414e-05, unnormalized = 0.08572222292423248\n",
      "iteration 24,  reconstraction error: 0.08602538704872131, decrease = -1.325458288192749e-05, unnormalized = 0.08573543280363083\n",
      "iteration 25,  reconstraction error: 0.08603934198617935, decrease = -1.395493745803833e-05, unnormalized = 0.08574933558702469\n",
      "iteration 26,  reconstraction error: 0.08605119585990906, decrease = -1.185387372970581e-05, unnormalized = 0.08576115220785141\n",
      "iteration 27,  reconstraction error: 0.08606304228305817, decrease = -1.1846423149108887e-05, unnormalized = 0.08577296137809753\n",
      "iteration 28,  reconstraction error: 0.08607420325279236, decrease = -1.1160969734191895e-05, unnormalized = 0.08578408509492874\n",
      "iteration 29,  reconstraction error: 0.08608396351337433, decrease = -9.760260581970215e-06, unnormalized = 0.08579380810260773\n",
      "iteration 30,  reconstraction error: 0.0860937163233757, decrease = -9.752810001373291e-06, unnormalized = 0.08580353111028671\n",
      "iteration 31,  reconstraction error: 0.08610277622938156, decrease = -9.059906005859375e-06, unnormalized = 0.08581256121397018\n",
      "iteration 32,  reconstraction error: 0.08611323684453964, decrease = -1.0460615158081055e-05, unnormalized = 0.08582298457622528\n",
      "iteration 33,  reconstraction error: 0.0861222892999649, decrease = -9.052455425262451e-06, unnormalized = 0.08583200722932816\n",
      "iteration 34,  reconstraction error: 0.086127869784832, decrease = -5.580484867095947e-06, unnormalized = 0.08583756536245346\n",
      "iteration 35,  reconstraction error: 0.08613622188568115, decrease = -8.352100849151611e-06, unnormalized = 0.08584589511156082\n",
      "iteration 36,  reconstraction error: 0.08614180237054825, decrease = -5.580484867095947e-06, unnormalized = 0.08585145324468613\n",
      "iteration 37,  reconstraction error: 0.08614807575941086, decrease = -6.273388862609863e-06, unnormalized = 0.08585770428180695\n",
      "iteration 38,  reconstraction error: 0.08615503460168839, decrease = -6.9588422775268555e-06, unnormalized = 0.08586464077234268\n",
      "iteration 39,  reconstraction error: 0.08616269379854202, decrease = -7.659196853637695e-06, unnormalized = 0.08587227761745453\n",
      "iteration 40,  reconstraction error: 0.08616618067026138, decrease = -3.4868717193603516e-06, unnormalized = 0.0858757495880127\n",
      "iteration 41,  reconstraction error: 0.08617383986711502, decrease = -7.659196853637695e-06, unnormalized = 0.08588338643312454\n",
      "iteration 42,  reconstraction error: 0.086178719997406, decrease = -4.880130290985107e-06, unnormalized = 0.08588824421167374\n",
      "iteration 43,  reconstraction error: 0.08618428558111191, decrease = -5.5655837059021e-06, unnormalized = 0.08589379489421844\n",
      "iteration 44,  reconstraction error: 0.08618637174367905, decrease = -2.086162567138672e-06, unnormalized = 0.08589587360620499\n",
      "iteration 45,  reconstraction error: 0.08619194477796555, decrease = -5.5730342864990234e-06, unnormalized = 0.0859014242887497\n",
      "iteration 46,  reconstraction error: 0.08619542419910431, decrease = -3.4794211387634277e-06, unnormalized = 0.08590489625930786\n",
      "iteration 47,  reconstraction error: 0.08619820326566696, decrease = -2.779066562652588e-06, unnormalized = 0.08590766787528992\n",
      "iteration 48,  reconstraction error: 0.08620099723339081, decrease = -2.7939677238464355e-06, unnormalized = 0.08591044694185257\n",
      "iteration 49,  reconstraction error: 0.08620446920394897, decrease = -3.471970558166504e-06, unnormalized = 0.08591391146183014\n",
      "iteration 50,  reconstraction error: 0.08620934188365936, decrease = -4.872679710388184e-06, unnormalized = 0.08591876924037933\n",
      "iteration 51,  reconstraction error: 0.0862114354968071, decrease = -2.0936131477355957e-06, unnormalized = 0.08592085540294647\n",
      "iteration 52,  reconstraction error: 0.08621352165937424, decrease = -2.086162567138672e-06, unnormalized = 0.08592293411493301\n",
      "iteration 53,  reconstraction error: 0.086217001080513, decrease = -3.4794211387634277e-06, unnormalized = 0.08592639863491058\n",
      "iteration 54,  reconstraction error: 0.08621978759765625, decrease = -2.7865171432495117e-06, unnormalized = 0.08592917770147324\n",
      "iteration 55,  reconstraction error: 0.08622466027736664, decrease = -4.872679710388184e-06, unnormalized = 0.08593403548002243\n",
      "iteration 56,  reconstraction error: 0.08622605353593826, decrease = -1.3932585716247559e-06, unnormalized = 0.08593542128801346\n",
      "iteration 57,  reconstraction error: 0.08622953295707703, decrease = -3.4794211387634277e-06, unnormalized = 0.08593888580799103\n",
      "iteration 58,  reconstraction error: 0.08623161166906357, decrease = -2.078711986541748e-06, unnormalized = 0.08594096451997757\n",
      "iteration 59,  reconstraction error: 0.08623440563678741, decrease = -2.7939677238464355e-06, unnormalized = 0.08594374358654022\n",
      "iteration 60,  reconstraction error: 0.08623509854078293, decrease = -6.92903995513916e-07, unnormalized = 0.08594443649053574\n",
      "iteration 61,  reconstraction error: 0.0862392708659172, decrease = -4.172325134277344e-06, unnormalized = 0.08594859391450882\n",
      "iteration 62,  reconstraction error: 0.0862392708659172, decrease = 0.0, unnormalized = 0.08594859391450882\n",
      "PARAFAC converged after 62 iterations\n"
     ]
    }
   ],
   "source": [
    "kruskal, error_history = parafac(ground_truth_tensor, 10, n_iter_max=1000, init='random', l2_reg = 0.01, normalize_factors=True, orthogonalise=True, tol=1e-8, random_state=42, verbose=1, return_errors=True, cvg_criterion='abs_rec_error')"
   ]
  },
  {
   "cell_type": "code",
   "execution_count": null,
   "metadata": {},
   "outputs": [],
   "source": []
  },
  {
   "cell_type": "code",
   "execution_count": 8,
   "metadata": {},
   "outputs": [
    {
     "data": {
      "text/plain": [
       "tensor([0.0378, 0.0383, 0.0278, 0.0315, 0.0248, 0.0317, 0.0232, 0.0343, 0.0345,\n",
       "        0.0340, 0.0250, 0.0335, 0.0361, 0.0376, 0.0274, 0.0253, 0.0386, 0.0351,\n",
       "        0.0250, 0.0360, 0.0379, 0.0394, 0.0380, 0.0186, 0.0368, 0.0260, 0.0352,\n",
       "        0.0198, 0.0360, 0.0358, 0.0253, 0.0291, 0.0138, 0.0325, 0.0270, 0.0247,\n",
       "        0.0188, 0.0290, 0.0278, 0.0325, 0.0292, 0.0325, 0.0343, 0.0261, 0.0208,\n",
       "        0.0240, 0.0357, 0.0368, 0.0335, 0.0234, 0.0349, 0.0366, 0.0377, 0.0233,\n",
       "        0.0340, 0.0238, 0.0212, 0.0336, 0.0341, 0.0291, 0.0220, 0.0331, 0.0318,\n",
       "        0.0271, 0.0376, 0.0272, 0.0166, 0.0251, 0.0190, 0.0263, 0.0369, 0.0365,\n",
       "        0.0310, 0.0322, 0.0347, 0.0374, 0.0310, 0.0388, 0.0309, 0.0288, 0.0219])"
      ]
     },
     "execution_count": 8,
     "metadata": {},
     "output_type": "execute_result"
    }
   ],
   "source": [
    "kruskal.weights"
   ]
  },
  {
   "cell_type": "code",
   "execution_count": null,
   "metadata": {},
   "outputs": [],
   "source": [
    "error_history "
   ]
  },
  {
   "cell_type": "code",
   "execution_count": 17,
   "metadata": {},
   "outputs": [],
   "source": [
    "t = kruskal_to_tensor(KruskalTensor((kruskal.weights, kruskal.factors)))"
   ]
  },
  {
   "cell_type": "code",
   "execution_count": 15,
   "metadata": {},
   "outputs": [],
   "source": [
    "approx_error = tl.norm(t - ground_truth_tensor, 'fro')/tl.norm(ground_truth_tensor, 'fro')"
   ]
  },
  {
   "cell_type": "code",
   "execution_count": 16,
   "metadata": {},
   "outputs": [
    {
     "data": {
      "text/plain": [
       "tensor(0.0144)"
      ]
     },
     "execution_count": 16,
     "metadata": {},
     "output_type": "execute_result"
    }
   ],
   "source": [
    "approx_error"
   ]
  },
  {
   "cell_type": "code",
   "execution_count": 25,
   "metadata": {},
   "outputs": [],
   "source": [
    "x_hat_img = mt.reconstruct_image_affine(x_true_img, np.array(t.data))\n",
    "        "
   ]
  },
  {
   "cell_type": "code",
   "execution_count": 24,
   "metadata": {},
   "outputs": [
    {
     "data": {
      "text/plain": [
       "<nibabel.nifti1.Nifti1Image at 0x182442690>"
      ]
     },
     "execution_count": 24,
     "metadata": {},
     "output_type": "execute_result"
    }
   ],
   "source": [
    "x_hat"
   ]
  },
  {
   "cell_type": "code",
   "execution_count": 26,
   "metadata": {},
   "outputs": [],
   "source": [
    "from nilearn.plotting import plot_prob_atlas"
   ]
  },
  {
   "cell_type": "code",
   "execution_count": 30,
   "metadata": {},
   "outputs": [
    {
     "data": {
      "text/plain": [
       "<nilearn.plotting.displays.OrthoSlicer at 0x182575150>"
      ]
     },
     "execution_count": 30,
     "metadata": {},
     "output_type": "execute_result"
    },
    {
     "data": {
      "image/png": "[encoded data removed]",
      "text/plain": [
       "<Figure size 475.2x187.2 with 4 Axes>"
      ]
     },
     "metadata": {},
     "output_type": "display_data"
    }
   ],
   "source": [
    "plot_prob_atlas(x_hat_img, title='All ICA components')"
   ]
  },
  {
   "cell_type": "code",
   "execution_count": 31,
   "metadata": {},
   "outputs": [],
   "source": [
    "plt.show()"
   ]
  },
  {
   "cell_type": "code",
   "execution_count": null,
   "metadata": {},
   "outputs": [
    {
     "name": "stderr",
     "output_type": "stream",
     "text": [
      "/usr/local/lib/python3.7/site-packages/nilearn/plotting/displays.py:1596: MatplotlibDeprecationWarning: Adding an axes using the same arguments as a previous axes currently reuses the earlier instance.  In a future version, a new instance will always be created and returned.  Meanwhile, this warning can be suppressed, and the future behavior ensured, by passing a unique label to each axes instance.\n",
      "  fraction * (x1 - x0), y1 - y0])\n",
      "/usr/local/lib/python3.7/site-packages/nilearn/plotting/displays.py:602: RuntimeWarning: More than 20 figures have been opened. Figures created through the pyplot interface (`matplotlib.pyplot.figure`) are retained until explicitly closed and may consume too much memory. (To control this warning, see the rcParam `figure.max_open_warning`).\n",
      "  facecolor=facecolor)\n"
     ]
    }
   ],
   "source": [
    "from nilearn.image import iter_img\n",
    "from nilearn.plotting import plot_stat_map, show\n",
    "\n",
    "for i, cur_img in enumerate(iter_img(x_hat_img)):\n",
    "    plot_stat_map(cur_img, display_mode=\"z\", title=\"IC %d\" % i,\n",
    "                  cut_coords=1, colorbar=False)"
   ]
  },
  {
   "cell_type": "code",
   "execution_count": null,
   "metadata": {},
   "outputs": [],
   "source": []
  }
 ],
 "metadata": {
  "kernelspec": {
   "display_name": "Python 3",
   "language": "python",
   "name": "python3"
  },
  "language_info": {
   "codemirror_mode": {
    "name": "ipython",
    "version": 3
   },
   "file_extension": ".py",
   "mimetype": "text/x-python",
   "name": "python",
   "nbconvert_exporter": "python",
   "pygments_lexer": "ipython3",
   "version": "3.7.5"
  }
 },
 "nbformat": 4,
 "nbformat_minor": 2
}

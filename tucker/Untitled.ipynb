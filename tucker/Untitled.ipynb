{
 "cells": [
  {
   "cell_type": "code",
   "execution_count": 2,
   "metadata": {},
   "outputs": [],
   "source": [
    "import nilearn\n",
    "\n",
    "from nilearn import image\n",
    "import nibabel as nib\n",
    "import copy\n",
    "from nilearn import plotting\n",
    "import os\n",
    "import numpy as np\n",
    "import matplotlib.pyplot as plt\n",
    "import matplotlib.gridspec as gridspec\n",
    "import random\n",
    "from math import ceil\n",
    "from nilearn.datasets import MNI152_FILE_PATH\n",
    "from sklearn.model_selection import train_test_split\n",
    "from nibabel.affines import apply_affine\n",
    "from nilearn.image.resampling import coord_transform, get_bounds, get_mask_bounds\n",
    "from nilearn.image import resample_img\n",
    "from nilearn.masking import compute_background_mask\n",
    "from datetime import datetime\n",
    "import file_service as fs\n",
    "import csv\n",
    "\n",
    "import metric_util as mt\n",
    "import data_util as du\n",
    "import mri_draw_utils as mrd\n",
    "import configparser\n",
    "from os import path\n",
    "import logging\n",
    "import metadata as mdt\n",
    "import tensor_util as tu\n",
    "\n",
    "\n",
    "config_loc = path.join('config')\n",
    "config_filename = 'solution.config'\n",
    "config_file = os.path.join(config_loc, config_filename)\n",
    "config = configparser.ConfigParser()\n",
    "config.read(config_file)\n",
    "config = config\n",
    "\n",
    "\n",
    "config_loc = path.join('config')\n",
    "config_filename = 'solution.config'\n",
    "config_file = os.path.join(config_loc, config_filename)\n",
    "config = configparser.ConfigParser()\n",
    "config.read(config_file)\n",
    "config = config\n",
    "\n",
    "\n",
    "if __name__ == \"__main__\":\n",
    "    pass\n",
    "    #complete_random_4D()"
   ]
  },
  {
   "cell_type": "code",
   "execution_count": null,
   "metadata": {},
   "outputs": [],
   "source": []
  }
 ],
 "metadata": {
  "kernelspec": {
   "display_name": "Environment (conda_tensorflow_p36)",
   "language": "python",
   "name": "conda_tensorflow_p36"
  },
  "language_info": {
   "codemirror_mode": {
    "name": "ipython",
    "version": 3
   },
   "file_extension": ".py",
   "mimetype": "text/x-python",
   "name": "python",
   "nbconvert_exporter": "python",
   "pygments_lexer": "ipython3",
   "version": "3.6.6"
  }
 },
 "nbformat": 4,
 "nbformat_minor": 2
}
